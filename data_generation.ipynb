{
 "cells": [
  {
   "cell_type": "code",
   "execution_count": 1,
   "metadata": {
    "collapsed": true,
    "pycharm": {
     "is_executing": false
    }
   },
   "outputs": [
    {
     "name": "stdout",
     "text": [
      "Collecting networkx\r\n",
      "\u001b[?25l  Downloading https://files.pythonhosted.org/packages/41/8f/dd6a8e85946def36e4f2c69c84219af0fa5e832b018c970e92f2ad337e45/networkx-2.4-py3-none-any.whl (1.6MB)\r\n",
      "\u001b[K     |████████████████████████████████| 1.6MB 884kB/s eta 0:00:01\r\n",
      "\u001b[?25hRequirement already satisfied: decorator>=4.3.0 in /usr/local/lib/python3.7/dist-packages (from networkx) (4.4.0)\r\n",
      "Installing collected packages: networkx\r\n",
      "Successfully installed networkx-2.4\r\n",
      "\u001b[33mWARNING: You are using pip version 19.2.2, however version 20.0.2 is available.\r\n",
      "You should consider upgrading via the 'pip install --upgrade pip' command.\u001b[0m\r\n"
     ],
     "output_type": "stream"
    }
   ],
   "source": [
    "!pip install networkx"
   ]
  },
  {
   "cell_type": "code",
   "execution_count": 31,
   "outputs": [],
   "source": [
    "import numpy as np\n",
    "import networkx as nx\n",
    "np.random.seed(42)"
   ],
   "metadata": {
    "collapsed": false,
    "pycharm": {
     "name": "#%%\n",
     "is_executing": false
    }
   }
  },
  {
   "cell_type": "code",
   "execution_count": 32,
   "outputs": [],
   "source": [
    "# also could be nx.gnr_graph\n",
    "nodes = 50 \n",
    "G = nx.scale_free_graph(nodes)"
   ],
   "metadata": {
    "collapsed": false,
    "pycharm": {
     "name": "#%%\n",
     "is_executing": false
    }
   }
  },
  {
   "cell_type": "code",
   "execution_count": 28,
   "outputs": [
    {
     "data": {
      "text/plain": "<Figure size 432x288 with 1 Axes>",
      "image/png": "[encoded data removed]"
     },
     "metadata": {},
     "output_type": "display_data"
    }
   ],
   "source": [
    "nx.draw(G)"
   ],
   "metadata": {
    "collapsed": false,
    "pycharm": {
     "name": "#%%\n",
     "is_executing": false
    }
   }
  },
  {
   "cell_type": "code",
   "execution_count": 26,
   "outputs": [
    {
     "data": {
      "text/plain": "matrix([[0., 4., 0., 0., 0., 1., 0., 0., 0., 0.],\n        [0., 0., 1., 0., 0., 0., 0., 0., 0., 0.],\n        [1., 0., 0., 0., 0., 0., 0., 0., 0., 0.],\n        [2., 0., 0., 0., 0., 0., 0., 0., 0., 1.],\n        [1., 0., 0., 0., 0., 0., 0., 0., 0., 0.],\n        [0., 0., 0., 0., 0., 0., 0., 0., 0., 0.],\n        [0., 1., 0., 0., 0., 0., 0., 0., 0., 0.],\n        [0., 0., 1., 0., 0., 0., 0., 0., 0., 0.],\n        [0., 1., 0., 0., 0., 0., 0., 0., 0., 0.],\n        [0., 0., 0., 0., 0., 0., 0., 0., 0., 0.]])"
     },
     "metadata": {},
     "output_type": "execute_result",
     "execution_count": 26
    }
   ],
   "source": [
    "a = nx.to_numpy_matrix(G)\n",
    "a"
   ],
   "metadata": {
    "collapsed": false,
    "pycharm": {
     "name": "#%%\n",
     "is_executing": false
    }
   }
  },
  {
   "cell_type": "code",
   "execution_count": 29,
   "outputs": [
    {
     "data": {
      "text/plain": "{0: {0: [0], 1: [0, 1], 2: [0, 1, 2], 4: [0, 1, 4]},\n 1: {1: [1], 2: [1, 2], 0: [1, 0], 4: [1, 4]},\n 2: {2: [2], 0: [2, 0], 1: [2, 1], 4: [2, 4]},\n 3: {3: [3], 0: [3, 0], 4: [3, 4], 5: [3, 5], 1: [3, 1], 2: [3, 1, 2]},\n 4: {4: [4]},\n 5: {5: [5]},\n 6: {6: [6], 0: [6, 0], 1: [6, 0, 1], 2: [6, 0, 1, 2], 4: [6, 0, 1, 4]},\n 7: {7: [7], 4: [7, 4]},\n 8: {8: [8], 4: [8, 4]},\n 9: {9: [9],\n  6: [9, 6],\n  0: [9, 6, 0],\n  1: [9, 6, 0, 1],\n  2: [9, 6, 0, 1, 2],\n  4: [9, 6, 0, 1, 4]}}"
     },
     "metadata": {},
     "output_type": "execute_result",
     "execution_count": 29
    }
   ],
   "source": [
    "nx.shortest_path(G)"
   ],
   "metadata": {
    "collapsed": false,
    "pycharm": {
     "name": "#%%\n",
     "is_executing": false
    }
   }
  },
  {
   "cell_type": "code",
   "execution_count": 34,
   "outputs": [
    {
     "name": "stdout",
     "text": [
      "mkdir: cannot create directory ‘training_data’: File exists\r\n"
     ],
     "output_type": "stream"
    },
    {
     "data": {
      "text/plain": "'/notebooks'"
     },
     "metadata": {},
     "output_type": "execute_result",
     "execution_count": 34
    }
   ],
   "source": [
    "!mkdir training_data \n",
    "import os\n",
    "curr_path = os.getcwd()\n",
    "curr_path"
   ],
   "metadata": {
    "collapsed": false,
    "pycharm": {
     "name": "#%%\n",
     "is_executing": false
    }
   }
  },
  {
   "cell_type": "code",
   "execution_count": 30,
   "outputs": [],
   "source": [
    "def process_g_paths(dict_pathes, n=50):\n",
    "    start_path_pairs = []\n",
    "    for k_i, v_i in dict_pathes.values():\n",
    "        start_vector = np.zeros(n)\n",
    "        for k_j, v_j in v_i.values():\n",
    "            start_vector[k_i] = 1\n",
    "            start_vector[k_j] = 1\n",
    "            path = np.zeros(n)\n",
    "            for i in v_j:\n",
    "                path[i] = 1\n",
    "            start_path_pairs.append((start_vector, path))\n",
    "    return start_path_pairs"
   ],
   "metadata": {
    "collapsed": false,
    "pycharm": {
     "name": "#%%\n",
     "is_executing": false
    }
   }
  },
  {
   "cell_type": "code",
   "execution_count": null,
   "outputs": [],
   "source": [
    "from numpy import savez_compressed        "
   ],
   "metadata": {
    "collapsed": false,
    "pycharm": {
     "name": "#%%\n"
    }
   }
  },
  {
   "cell_type": "code",
   "execution_count": null,
   "outputs": [],
   "source": [
    "for i in range(5000):\n",
    "    g = nx.scale_free_graph(nodes)\n",
    "    adj_g = nx.to_numpy_matrix(g)\n",
    "    vector_pairs  = process_g_paths(nx.shortest_path(g), nodes)\n",
    "    # make dirs\n",
    "    ith_path = curr_path + '/' + str(i)\n",
    "    os.mkdir(ith_path)\n",
    "    ith_target_path = ith_path + '/' + 'target' \n",
    "    os.mkdir(ith_target_path)\n",
    "    # save files\n",
    "    savez_compressed(ith_path + '/adj.npz', adj_g)\n",
    "    for pair in vector_pairs:\n",
    "        savez_compressed(ith_target_path + '/start.npz', pair[0])\n",
    "        savez_compressed(ith_target_path + '/path.npz', pair[1])\n",
    "    "
   ],
   "metadata": {
    "collapsed": false,
    "pycharm": {
     "name": "#%%\n"
    }
   }
  }
 ],
 "metadata": {
  "kernelspec": {
   "display_name": "Python 3",
   "language": "python",
   "name": "python3"
  },
  "language_info": {
   "codemirror_mode": {
    "name": "ipython",
    "version": 2
   },
   "file_extension": ".py",
   "mimetype": "text/x-python",
   "name": "python",
   "nbconvert_exporter": "python",
   "pygments_lexer": "ipython2",
   "version": "2.7.6"
  },
  "pycharm": {
   "stem_cell": {
    "cell_type": "raw",
    "source": [],
    "metadata": {
     "collapsed": false
    }
   }
  }
 },
 "nbformat": 4,
 "nbformat_minor": 0
}